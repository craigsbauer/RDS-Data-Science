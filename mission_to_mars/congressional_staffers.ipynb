{
 "cells": [
  {
   "cell_type": "code",
   "execution_count": 8,
   "metadata": {},
   "outputs": [
    {
     "name": "stderr",
     "output_type": "stream",
     "text": [
      "/Users/hlee/anaconda/lib/python3.6/site-packages/bs4/__init__.py:181: UserWarning: No parser was explicitly specified, so I'm using the best available HTML parser for this system (\"lxml\"). This usually isn't a problem, but if you run this code on another system, or in a different virtual environment, it may use a different parser and behave differently.\n",
      "\n",
      "The code that caused this warning is on line 193 of the file /Users/hlee/anaconda/lib/python3.6/runpy.py. To get rid of this warning, change code that looks like this:\n",
      "\n",
      " BeautifulSoup([your markup])\n",
      "\n",
      "to this:\n",
      "\n",
      " BeautifulSoup([your markup], \"lxml\")\n",
      "\n",
      "  markup_type=markup_type))\n"
     ]
    }
   ],
   "source": [
    "from selenium.webdriver.support.ui import WebDriverWait\n",
    "from selenium.webdriver.support import expected_conditions as EC\n",
    "from selenium.webdriver.common.by import By\n",
    "from selenium import webdriver\n",
    "\n",
    "# Start the WebDriver and load the page\n",
    "wd = webdriver.Firefox()\n",
    "wd.get('http://congressional-staff.insidegov.com//')\n",
    "\n",
    "# Wait for the dynamically loaded elements to show up\n",
    "WebDriverWait(wd, 10).until(\n",
    "    EC.visibility_of_element_located((By.CLASS_NAME, \"srp-list-results\")))\n",
    "\n",
    "# And grab the page HTML source\n",
    "html_page = wd.page_source\n",
    "wd.quit()\n",
    "\n",
    "# Now you can use html_page as you like\n",
    "from bs4 import BeautifulSoup\n",
    "soup = BeautifulSoup(html_page)"
   ]
  },
  {
   "cell_type": "code",
   "execution_count": 9,
   "metadata": {},
   "outputs": [],
   "source": [
    "people = soup.find_all('h3', class_='srp-listing-name')"
   ]
  },
  {
   "cell_type": "code",
   "execution_count": 10,
   "metadata": {},
   "outputs": [
    {
     "data": {
      "text/plain": [
       "[<h3 class=\"srp-listing-name\"><a class=\"srp-listing-title\" href=\"http://congressional-staff.insidegov.com/l/13735/A-Brode-Kimberly\">A Brode Kimberly</a></h3>,\n",
       " <h3 class=\"srp-listing-name\"><a class=\"srp-listing-title\" href=\"http://congressional-staff.insidegov.com/l/2/A-Jay-Khosla\">A Jay Khosla</a></h3>,\n",
       " <h3 class=\"srp-listing-name\"><a class=\"srp-listing-title\" href=\"http://congressional-staff.insidegov.com/l/45128/Aaricka-C-Oliver\">Aaricka C Oliver</a></h3>,\n",
       " <h3 class=\"srp-listing-name\"><a class=\"srp-listing-title\" href=\"http://congressional-staff.insidegov.com/l/45129/Aaron-B-Rosenbluth\">Aaron B Rosenbluth</a></h3>,\n",
       " <h3 class=\"srp-listing-name\"><a class=\"srp-listing-title\" href=\"http://congressional-staff.insidegov.com/l/13746/Aaron-B-Thompson\">Aaron B Thompson</a></h3>,\n",
       " <h3 class=\"srp-listing-name\"><a class=\"srp-listing-title\" href=\"http://congressional-staff.insidegov.com/l/13753/Aaron-Clark\">Aaron Clark</a></h3>,\n",
       " <h3 class=\"srp-listing-name\"><a class=\"srp-listing-title\" href=\"http://congressional-staff.insidegov.com/l/13760/Aaron-E-Ringel\">Aaron E Ringel</a></h3>,\n",
       " <h3 class=\"srp-listing-name\"><a class=\"srp-listing-title\" href=\"http://congressional-staff.insidegov.com/l/17/Aaron-H-Woolf\">Aaron H Woolf</a></h3>,\n",
       " <h3 class=\"srp-listing-name\"><a class=\"srp-listing-title\" href=\"http://congressional-staff.insidegov.com/l/13764/Aaron-Hiller\">Aaron Hiller</a></h3>,\n",
       " <h3 class=\"srp-listing-name\"><a class=\"srp-listing-title\" href=\"http://congressional-staff.insidegov.com/l/13765/Aaron-Hunter\">Aaron Hunter</a></h3>,\n",
       " <h3 class=\"srp-listing-name\"><a class=\"srp-listing-title\" href=\"http://congressional-staff.insidegov.com/l/13769/Aaron-J-Krejci\">Aaron J Krejci</a></h3>,\n",
       " <h3 class=\"srp-listing-name\"><a class=\"srp-listing-title\" href=\"http://congressional-staff.insidegov.com/l/48162/Aaron-J-Larson\">Aaron J Larson</a></h3>,\n",
       " <h3 class=\"srp-listing-name\"><a class=\"srp-listing-title\" href=\"http://congressional-staff.insidegov.com/l/13772/Aaron-J-Thiele\">Aaron J Thiele</a></h3>,\n",
       " <h3 class=\"srp-listing-name\"><a class=\"srp-listing-title\" href=\"http://congressional-staff.insidegov.com/l/42476/Aaron-J-Vance\">Aaron J Vance</a></h3>,\n",
       " <h3 class=\"srp-listing-name\"><a class=\"srp-listing-title\" href=\"http://congressional-staff.insidegov.com/l/48163/Aaron-J-Weber\">Aaron J Weber</a></h3>,\n",
       " <h3 class=\"srp-listing-name\"><a class=\"srp-listing-title\" href=\"http://congressional-staff.insidegov.com/l/13775/Aaron-L-Calkins\">Aaron L Calkins</a></h3>,\n",
       " <h3 class=\"srp-listing-name\"><a class=\"srp-listing-title\" href=\"http://congressional-staff.insidegov.com/l/13777/Aaron-M-Allen\">Aaron M Allen</a></h3>,\n",
       " <h3 class=\"srp-listing-name\"><a class=\"srp-listing-title\" href=\"http://congressional-staff.insidegov.com/l/42477/Aaron-M-Bill\">Aaron M Bill</a></h3>,\n",
       " <h3 class=\"srp-listing-name\"><a class=\"srp-listing-title\" href=\"http://congressional-staff.insidegov.com/l/13780/Aaron-M-Falk\">Aaron M Falk</a></h3>,\n",
       " <h3 class=\"srp-listing-name\"><a class=\"srp-listing-title\" href=\"http://congressional-staff.insidegov.com/l/23/Aaron-M-McKay\">Aaron M McKay</a></h3>]"
      ]
     },
     "execution_count": 10,
     "metadata": {},
     "output_type": "execute_result"
    }
   ],
   "source": [
    "people"
   ]
  },
  {
   "cell_type": "code",
   "execution_count": 13,
   "metadata": {},
   "outputs": [
    {
     "name": "stdout",
     "output_type": "stream",
     "text": [
      "A Brode Kimberly\n",
      "http://congressional-staff.insidegov.com/l/13735/A-Brode-Kimberly\n",
      "A Jay Khosla\n",
      "http://congressional-staff.insidegov.com/l/2/A-Jay-Khosla\n",
      "Aaricka C Oliver\n",
      "http://congressional-staff.insidegov.com/l/45128/Aaricka-C-Oliver\n",
      "Aaron B Rosenbluth\n",
      "http://congressional-staff.insidegov.com/l/45129/Aaron-B-Rosenbluth\n",
      "Aaron B Thompson\n",
      "http://congressional-staff.insidegov.com/l/13746/Aaron-B-Thompson\n",
      "Aaron Clark\n",
      "http://congressional-staff.insidegov.com/l/13753/Aaron-Clark\n",
      "Aaron E Ringel\n",
      "http://congressional-staff.insidegov.com/l/13760/Aaron-E-Ringel\n",
      "Aaron H Woolf\n",
      "http://congressional-staff.insidegov.com/l/17/Aaron-H-Woolf\n",
      "Aaron Hiller\n",
      "http://congressional-staff.insidegov.com/l/13764/Aaron-Hiller\n",
      "Aaron Hunter\n",
      "http://congressional-staff.insidegov.com/l/13765/Aaron-Hunter\n",
      "Aaron J Krejci\n",
      "http://congressional-staff.insidegov.com/l/13769/Aaron-J-Krejci\n",
      "Aaron J Larson\n",
      "http://congressional-staff.insidegov.com/l/48162/Aaron-J-Larson\n",
      "Aaron J Thiele\n",
      "http://congressional-staff.insidegov.com/l/13772/Aaron-J-Thiele\n",
      "Aaron J Vance\n",
      "http://congressional-staff.insidegov.com/l/42476/Aaron-J-Vance\n",
      "Aaron J Weber\n",
      "http://congressional-staff.insidegov.com/l/48163/Aaron-J-Weber\n",
      "Aaron L Calkins\n",
      "http://congressional-staff.insidegov.com/l/13775/Aaron-L-Calkins\n",
      "Aaron M Allen\n",
      "http://congressional-staff.insidegov.com/l/13777/Aaron-M-Allen\n",
      "Aaron M Bill\n",
      "http://congressional-staff.insidegov.com/l/42477/Aaron-M-Bill\n",
      "Aaron M Falk\n",
      "http://congressional-staff.insidegov.com/l/13780/Aaron-M-Falk\n",
      "Aaron M McKay\n",
      "http://congressional-staff.insidegov.com/l/23/Aaron-M-McKay\n"
     ]
    }
   ],
   "source": [
    "for person in people:\n",
    "    print(person.text)\n",
    "    print(person.a['href'])"
   ]
  },
  {
   "cell_type": "code",
   "execution_count": null,
   "metadata": {
    "collapsed": true
   },
   "outputs": [],
   "source": []
  }
 ],
 "metadata": {
  "kernelspec": {
   "display_name": "Python [default]",
   "language": "python",
   "name": "python3"
  },
  "language_info": {
   "codemirror_mode": {
    "name": "ipython",
    "version": 3
   },
   "file_extension": ".py",
   "mimetype": "text/x-python",
   "name": "python",
   "nbconvert_exporter": "python",
   "pygments_lexer": "ipython3",
   "version": "3.6.1"
  }
 },
 "nbformat": 4,
 "nbformat_minor": 2
}
